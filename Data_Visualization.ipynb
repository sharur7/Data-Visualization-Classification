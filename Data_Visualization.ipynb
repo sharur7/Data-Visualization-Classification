{
  "nbformat": 4,
  "nbformat_minor": 0,
  "metadata": {
    "colab": {
      "name": "Data Visualization.ipynb",
      "provenance": [],
      "collapsed_sections": [],
      "toc_visible": true
    },
    "kernelspec": {
      "name": "python3",
      "display_name": "Python 3"
    }
  },
  "cells": [
    {
      "cell_type": "markdown",
      "metadata": {
        "id": "ZvLq6iu3tshl",
        "colab_type": "text"
      },
      "source": [
        "# Live Project\n"
      ]
    },
    {
      "cell_type": "markdown",
      "metadata": {
        "id": "FDZIsMuStzRp",
        "colab_type": "text"
      },
      "source": [
        "### Importing Libraries"
      ]
    },
    {
      "cell_type": "code",
      "metadata": {
        "id": "Dw3szl0ot0Y8",
        "colab_type": "code",
        "colab": {}
      },
      "source": [
        "import pandas as pd\n",
        "import numpy as np\n",
        "import matplotlib.pyplot as plt\n",
        "%matplotlib inline\n",
        "import seaborn as sns\n",
        "from sklearn.model_selection import train_test_split\n",
        "from sklearn.preprocessing import OneHotEncoder \n",
        "ohe = OneHotEncoder\n",
        "from sklearn.compose import ColumnTransformer\n",
        "from sklearn.preprocessing import LabelEncoder\n",
        "le = LabelEncoder()\n",
        "import pylab as pl\n",
        "from matplotlib.backends.backend_pdf import PdfPages\n",
        "pp = PdfPages('visualization-output.pdf')"
      ],
      "execution_count": null,
      "outputs": []
    },
    {
      "cell_type": "code",
      "metadata": {
        "id": "Luy1tcMXt37e",
        "colab_type": "code",
        "colab": {}
      },
      "source": [
        "file=pd.read_csv(\"data.csv\")\n",
        "X = file.iloc[:, :-1].values\n",
        "y = file.iloc[:, -1].values\n",
        "#file=pd.read_csv(sys.argv[1], header = 0) #Uncomment this to use it from command line"
      ],
      "execution_count": null,
      "outputs": []
    },
    {
      "cell_type": "code",
      "metadata": {
        "id": "z64Ylm_ht86J",
        "colab_type": "code",
        "colab": {
          "base_uri": "https://localhost:8080/",
          "height": 34
        },
        "outputId": "7fd6c9d7-c9d1-4e1a-d1a5-81db8b882352"
      },
      "source": [
        "file.shape"
      ],
      "execution_count": null,
      "outputs": [
        {
          "output_type": "execute_result",
          "data": {
            "text/plain": [
              "(10000, 32)"
            ]
          },
          "metadata": {
            "tags": []
          },
          "execution_count": 325
        }
      ]
    },
    {
      "cell_type": "code",
      "metadata": {
        "id": "6xf8HeCQt_bF",
        "colab_type": "code",
        "colab": {
          "base_uri": "https://localhost:8080/",
          "height": 568
        },
        "outputId": "6dafa0b9-4453-476e-920f-45699a37a78c"
      },
      "source": [
        "file.head()"
      ],
      "execution_count": null,
      "outputs": [
        {
          "output_type": "execute_result",
          "data": {
            "text/html": [
              "<div>\n",
              "<style scoped>\n",
              "    .dataframe tbody tr th:only-of-type {\n",
              "        vertical-align: middle;\n",
              "    }\n",
              "\n",
              "    .dataframe tbody tr th {\n",
              "        vertical-align: top;\n",
              "    }\n",
              "\n",
              "    .dataframe thead th {\n",
              "        text-align: right;\n",
              "    }\n",
              "</style>\n",
              "<table border=\"1\" class=\"dataframe\">\n",
              "  <thead>\n",
              "    <tr style=\"text-align: right;\">\n",
              "      <th></th>\n",
              "      <th>First Name</th>\n",
              "      <th>Last Name</th>\n",
              "      <th>City</th>\n",
              "      <th>State</th>\n",
              "      <th>Zip Code</th>\n",
              "      <th>DOB [DD/MM/YYYY]</th>\n",
              "      <th>Age</th>\n",
              "      <th>Gender</th>\n",
              "      <th>Email Address</th>\n",
              "      <th>Contact Number</th>\n",
              "      <th>Emergency Contact Number</th>\n",
              "      <th>College name</th>\n",
              "      <th>University Name</th>\n",
              "      <th>Degree</th>\n",
              "      <th>Major/Area of Study</th>\n",
              "      <th>Course Type</th>\n",
              "      <th>Which-year are you studying in?</th>\n",
              "      <th>CGPA/ percentage</th>\n",
              "      <th>Expected Graduation-year</th>\n",
              "      <th>Areas of interest</th>\n",
              "      <th>Current Employment Status</th>\n",
              "      <th>Have you worked core Java</th>\n",
              "      <th>Programming Language Known other than Java (one major)</th>\n",
              "      <th>Have you worked on MySQL or Oracle database</th>\n",
              "      <th>Have you studied OOP Concepts</th>\n",
              "      <th>Certifications/Achievement/ Research papers</th>\n",
              "      <th>Rate your written communication skills [1-10]</th>\n",
              "      <th>Rate your verbal communication skills [1-10]</th>\n",
              "      <th>Link to updated Resume (Google/ One Drive link preferred)</th>\n",
              "      <th>link to Linkedin profile</th>\n",
              "      <th>How Did You Hear About This Internship?</th>\n",
              "      <th>Label</th>\n",
              "    </tr>\n",
              "  </thead>\n",
              "  <tbody>\n",
              "    <tr>\n",
              "      <th>0</th>\n",
              "      <td>Barron</td>\n",
              "      <td>Harnes</td>\n",
              "      <td>Kolhapur</td>\n",
              "      <td>Maharashtra</td>\n",
              "      <td>416004</td>\n",
              "      <td>24/09/2000</td>\n",
              "      <td>19</td>\n",
              "      <td>Male</td>\n",
              "      <td>bharnes0@harvard.edu</td>\n",
              "      <td>6345186600</td>\n",
              "      <td>7828240738</td>\n",
              "      <td>DY Patil College of Engineering And Technology</td>\n",
              "      <td>Shivaji University</td>\n",
              "      <td>B.Tech</td>\n",
              "      <td>Electrical Engineering</td>\n",
              "      <td>Full-time</td>\n",
              "      <td>Second-year</td>\n",
              "      <td>7.26</td>\n",
              "      <td>2022</td>\n",
              "      <td>Artificial Intelligence</td>\n",
              "      <td>Student</td>\n",
              "      <td>Yes</td>\n",
              "      <td>HTML/CSS</td>\n",
              "      <td>Yes</td>\n",
              "      <td>No</td>\n",
              "      <td>NaN</td>\n",
              "      <td>6</td>\n",
              "      <td>10</td>\n",
              "      <td>NaN</td>\n",
              "      <td>NaN</td>\n",
              "      <td>Twitter</td>\n",
              "      <td>ineligible</td>\n",
              "    </tr>\n",
              "    <tr>\n",
              "      <th>1</th>\n",
              "      <td>Velma</td>\n",
              "      <td>Allone</td>\n",
              "      <td>Pune</td>\n",
              "      <td>Maharashtra</td>\n",
              "      <td>411011</td>\n",
              "      <td>23/10/1997</td>\n",
              "      <td>22</td>\n",
              "      <td>Female</td>\n",
              "      <td>vallone1@i2i.jp</td>\n",
              "      <td>2808753102</td>\n",
              "      <td>2891397791</td>\n",
              "      <td>Vishwakarma Institute of Information Technology</td>\n",
              "      <td>Savitribai Phule Pune University</td>\n",
              "      <td>B.Tech</td>\n",
              "      <td>Electronics and Telecommunication</td>\n",
              "      <td>Full-time</td>\n",
              "      <td>Fourth-year</td>\n",
              "      <td>8.73</td>\n",
              "      <td>2020</td>\n",
              "      <td>Cloud Computing</td>\n",
              "      <td>Student</td>\n",
              "      <td>Yes</td>\n",
              "      <td>PHP</td>\n",
              "      <td>No</td>\n",
              "      <td>Yes</td>\n",
              "      <td>NaN</td>\n",
              "      <td>10</td>\n",
              "      <td>7</td>\n",
              "      <td>NaN</td>\n",
              "      <td>NaN</td>\n",
              "      <td>Ex/Current Employee</td>\n",
              "      <td>eligible</td>\n",
              "    </tr>\n",
              "    <tr>\n",
              "      <th>2</th>\n",
              "      <td>Thibaut</td>\n",
              "      <td>Scotland</td>\n",
              "      <td>Mumbai</td>\n",
              "      <td>Maharashtra</td>\n",
              "      <td>400059</td>\n",
              "      <td>6/2/1996</td>\n",
              "      <td>24</td>\n",
              "      <td>Male</td>\n",
              "      <td>tscotland2@opensource.org</td>\n",
              "      <td>2945231918</td>\n",
              "      <td>9388905869</td>\n",
              "      <td>Vidyalankar Institute of Technology</td>\n",
              "      <td>Mumbai University</td>\n",
              "      <td>B.E.</td>\n",
              "      <td>Electrical Engineering</td>\n",
              "      <td>Full-time</td>\n",
              "      <td>Fourth-year</td>\n",
              "      <td>8.61</td>\n",
              "      <td>2020</td>\n",
              "      <td>IoT</td>\n",
              "      <td>Student</td>\n",
              "      <td>Yes</td>\n",
              "      <td>C</td>\n",
              "      <td>No</td>\n",
              "      <td>No</td>\n",
              "      <td>NaN</td>\n",
              "      <td>8</td>\n",
              "      <td>6</td>\n",
              "      <td>NaN</td>\n",
              "      <td>NaN</td>\n",
              "      <td>Twitter</td>\n",
              "      <td>ineligible</td>\n",
              "    </tr>\n",
              "    <tr>\n",
              "      <th>3</th>\n",
              "      <td>Retha</td>\n",
              "      <td>Proud</td>\n",
              "      <td>Solapur</td>\n",
              "      <td>Maharashtra</td>\n",
              "      <td>413224</td>\n",
              "      <td>26/12/1999</td>\n",
              "      <td>20</td>\n",
              "      <td>Female</td>\n",
              "      <td>rproud3@flavors.me</td>\n",
              "      <td>7507196200</td>\n",
              "      <td>8037797161</td>\n",
              "      <td>Brahmdevdada Mane Institute of Technology</td>\n",
              "      <td>Punyashlok Ahilyadevi Holkar Solapur University</td>\n",
              "      <td>B.Tech</td>\n",
              "      <td>Computer Engineering</td>\n",
              "      <td>Full-time</td>\n",
              "      <td>Second-year</td>\n",
              "      <td>7.96</td>\n",
              "      <td>2022</td>\n",
              "      <td>Digital Marketing</td>\n",
              "      <td>Student</td>\n",
              "      <td>No</td>\n",
              "      <td>PHP</td>\n",
              "      <td>No</td>\n",
              "      <td>Yes</td>\n",
              "      <td>NaN</td>\n",
              "      <td>9</td>\n",
              "      <td>6</td>\n",
              "      <td>NaN</td>\n",
              "      <td>NaN</td>\n",
              "      <td>Twitter</td>\n",
              "      <td>ineligible</td>\n",
              "    </tr>\n",
              "    <tr>\n",
              "      <th>4</th>\n",
              "      <td>Del</td>\n",
              "      <td>Pearse</td>\n",
              "      <td>Sangli</td>\n",
              "      <td>Maharashtra</td>\n",
              "      <td>416436</td>\n",
              "      <td>21/09/1996</td>\n",
              "      <td>23</td>\n",
              "      <td>Female</td>\n",
              "      <td>dpearse4@sakura.ne.jp</td>\n",
              "      <td>6643884281</td>\n",
              "      <td>1328949359</td>\n",
              "      <td>Rajarambapu Institute of Technology</td>\n",
              "      <td>Shivaji University</td>\n",
              "      <td>B.Tech</td>\n",
              "      <td>Electrical Engineering</td>\n",
              "      <td>Full-time</td>\n",
              "      <td>First-year</td>\n",
              "      <td>7.07</td>\n",
              "      <td>2023</td>\n",
              "      <td>Cloud Computing</td>\n",
              "      <td>Student</td>\n",
              "      <td>No</td>\n",
              "      <td>Python</td>\n",
              "      <td>No</td>\n",
              "      <td>Yes</td>\n",
              "      <td>NaN</td>\n",
              "      <td>8</td>\n",
              "      <td>6</td>\n",
              "      <td>NaN</td>\n",
              "      <td>NaN</td>\n",
              "      <td>Facebook</td>\n",
              "      <td>ineligible</td>\n",
              "    </tr>\n",
              "  </tbody>\n",
              "</table>\n",
              "</div>"
            ],
            "text/plain": [
              "  First Name Last Name  ... How Did You Hear About This Internship?       Label\n",
              "0     Barron    Harnes  ...                                 Twitter  ineligible\n",
              "1      Velma    Allone  ...                     Ex/Current Employee    eligible\n",
              "2    Thibaut  Scotland  ...                                 Twitter  ineligible\n",
              "3      Retha     Proud  ...                                 Twitter  ineligible\n",
              "4        Del    Pearse  ...                                Facebook  ineligible\n",
              "\n",
              "[5 rows x 32 columns]"
            ]
          },
          "metadata": {
            "tags": []
          },
          "execution_count": 326
        }
      ]
    },
    {
      "cell_type": "code",
      "metadata": {
        "id": "a8YNdf34uB4C",
        "colab_type": "code",
        "colab": {
          "base_uri": "https://localhost:8080/",
          "height": 405
        },
        "outputId": "7d8c4ff6-5cba-4d0c-f727-0e2c4571bf52"
      },
      "source": [
        "file.describe()"
      ],
      "execution_count": null,
      "outputs": [
        {
          "output_type": "execute_result",
          "data": {
            "text/html": [
              "<div>\n",
              "<style scoped>\n",
              "    .dataframe tbody tr th:only-of-type {\n",
              "        vertical-align: middle;\n",
              "    }\n",
              "\n",
              "    .dataframe tbody tr th {\n",
              "        vertical-align: top;\n",
              "    }\n",
              "\n",
              "    .dataframe thead th {\n",
              "        text-align: right;\n",
              "    }\n",
              "</style>\n",
              "<table border=\"1\" class=\"dataframe\">\n",
              "  <thead>\n",
              "    <tr style=\"text-align: right;\">\n",
              "      <th></th>\n",
              "      <th>Zip Code</th>\n",
              "      <th>Age</th>\n",
              "      <th>Contact Number</th>\n",
              "      <th>Emergency Contact Number</th>\n",
              "      <th>CGPA/ percentage</th>\n",
              "      <th>Expected Graduation-year</th>\n",
              "      <th>Certifications/Achievement/ Research papers</th>\n",
              "      <th>Rate your written communication skills [1-10]</th>\n",
              "      <th>Rate your verbal communication skills [1-10]</th>\n",
              "      <th>Link to updated Resume (Google/ One Drive link preferred)</th>\n",
              "      <th>link to Linkedin profile</th>\n",
              "    </tr>\n",
              "  </thead>\n",
              "  <tbody>\n",
              "    <tr>\n",
              "      <th>count</th>\n",
              "      <td>10000.000000</td>\n",
              "      <td>10000.000000</td>\n",
              "      <td>1.000000e+04</td>\n",
              "      <td>1.000000e+04</td>\n",
              "      <td>10000.000000</td>\n",
              "      <td>10000.000000</td>\n",
              "      <td>0.0</td>\n",
              "      <td>10000.000000</td>\n",
              "      <td>10000.000000</td>\n",
              "      <td>0.0</td>\n",
              "      <td>0.0</td>\n",
              "    </tr>\n",
              "    <tr>\n",
              "      <th>mean</th>\n",
              "      <td>410087.514700</td>\n",
              "      <td>21.384700</td>\n",
              "      <td>5.521004e+09</td>\n",
              "      <td>5.569675e+09</td>\n",
              "      <td>8.500260</td>\n",
              "      <td>2021.509300</td>\n",
              "      <td>NaN</td>\n",
              "      <td>7.988400</td>\n",
              "      <td>7.995500</td>\n",
              "      <td>NaN</td>\n",
              "      <td>NaN</td>\n",
              "    </tr>\n",
              "    <tr>\n",
              "      <th>std</th>\n",
              "      <td>6408.897346</td>\n",
              "      <td>1.489674</td>\n",
              "      <td>2.622215e+09</td>\n",
              "      <td>2.581596e+09</td>\n",
              "      <td>0.860161</td>\n",
              "      <td>1.116888</td>\n",
              "      <td>NaN</td>\n",
              "      <td>1.413529</td>\n",
              "      <td>1.419113</td>\n",
              "      <td>NaN</td>\n",
              "      <td>NaN</td>\n",
              "    </tr>\n",
              "    <tr>\n",
              "      <th>min</th>\n",
              "      <td>400012.000000</td>\n",
              "      <td>19.000000</td>\n",
              "      <td>6.402026e+06</td>\n",
              "      <td>1.001359e+09</td>\n",
              "      <td>7.000000</td>\n",
              "      <td>2020.000000</td>\n",
              "      <td>NaN</td>\n",
              "      <td>6.000000</td>\n",
              "      <td>6.000000</td>\n",
              "      <td>NaN</td>\n",
              "      <td>NaN</td>\n",
              "    </tr>\n",
              "    <tr>\n",
              "      <th>25%</th>\n",
              "      <td>400701.000000</td>\n",
              "      <td>20.000000</td>\n",
              "      <td>3.191651e+09</td>\n",
              "      <td>3.353914e+09</td>\n",
              "      <td>7.750000</td>\n",
              "      <td>2021.000000</td>\n",
              "      <td>NaN</td>\n",
              "      <td>7.000000</td>\n",
              "      <td>7.000000</td>\n",
              "      <td>NaN</td>\n",
              "      <td>NaN</td>\n",
              "    </tr>\n",
              "    <tr>\n",
              "      <th>50%</th>\n",
              "      <td>413001.000000</td>\n",
              "      <td>21.000000</td>\n",
              "      <td>5.543699e+09</td>\n",
              "      <td>5.634072e+09</td>\n",
              "      <td>8.500000</td>\n",
              "      <td>2022.000000</td>\n",
              "      <td>NaN</td>\n",
              "      <td>8.000000</td>\n",
              "      <td>8.000000</td>\n",
              "      <td>NaN</td>\n",
              "      <td>NaN</td>\n",
              "    </tr>\n",
              "    <tr>\n",
              "      <th>75%</th>\n",
              "      <td>416004.000000</td>\n",
              "      <td>23.000000</td>\n",
              "      <td>7.796677e+09</td>\n",
              "      <td>7.794617e+09</td>\n",
              "      <td>9.232500</td>\n",
              "      <td>2023.000000</td>\n",
              "      <td>NaN</td>\n",
              "      <td>9.000000</td>\n",
              "      <td>9.000000</td>\n",
              "      <td>NaN</td>\n",
              "      <td>NaN</td>\n",
              "    </tr>\n",
              "    <tr>\n",
              "      <th>max</th>\n",
              "      <td>416436.000000</td>\n",
              "      <td>24.000000</td>\n",
              "      <td>9.999767e+09</td>\n",
              "      <td>9.999852e+09</td>\n",
              "      <td>10.000000</td>\n",
              "      <td>2023.000000</td>\n",
              "      <td>NaN</td>\n",
              "      <td>10.000000</td>\n",
              "      <td>10.000000</td>\n",
              "      <td>NaN</td>\n",
              "      <td>NaN</td>\n",
              "    </tr>\n",
              "  </tbody>\n",
              "</table>\n",
              "</div>"
            ],
            "text/plain": [
              "            Zip Code  ...  link to Linkedin profile\n",
              "count   10000.000000  ...                       0.0\n",
              "mean   410087.514700  ...                       NaN\n",
              "std      6408.897346  ...                       NaN\n",
              "min    400012.000000  ...                       NaN\n",
              "25%    400701.000000  ...                       NaN\n",
              "50%    413001.000000  ...                       NaN\n",
              "75%    416004.000000  ...                       NaN\n",
              "max    416436.000000  ...                       NaN\n",
              "\n",
              "[8 rows x 11 columns]"
            ]
          },
          "metadata": {
            "tags": []
          },
          "execution_count": 327
        }
      ]
    },
    {
      "cell_type": "code",
      "metadata": {
        "id": "QvsKkyuiuHms",
        "colab_type": "code",
        "colab": {
          "base_uri": "https://localhost:8080/",
          "height": 522
        },
        "outputId": "d8453fc0-b65d-4f4f-939e-1cc740fc3e07"
      },
      "source": [
        "file.isnull()"
      ],
      "execution_count": null,
      "outputs": [
        {
          "output_type": "execute_result",
          "data": {
            "text/html": [
              "<div>\n",
              "<style scoped>\n",
              "    .dataframe tbody tr th:only-of-type {\n",
              "        vertical-align: middle;\n",
              "    }\n",
              "\n",
              "    .dataframe tbody tr th {\n",
              "        vertical-align: top;\n",
              "    }\n",
              "\n",
              "    .dataframe thead th {\n",
              "        text-align: right;\n",
              "    }\n",
              "</style>\n",
              "<table border=\"1\" class=\"dataframe\">\n",
              "  <thead>\n",
              "    <tr style=\"text-align: right;\">\n",
              "      <th></th>\n",
              "      <th>First Name</th>\n",
              "      <th>Last Name</th>\n",
              "      <th>City</th>\n",
              "      <th>State</th>\n",
              "      <th>Zip Code</th>\n",
              "      <th>DOB [DD/MM/YYYY]</th>\n",
              "      <th>Age</th>\n",
              "      <th>Gender</th>\n",
              "      <th>Email Address</th>\n",
              "      <th>Contact Number</th>\n",
              "      <th>Emergency Contact Number</th>\n",
              "      <th>College name</th>\n",
              "      <th>University Name</th>\n",
              "      <th>Degree</th>\n",
              "      <th>Major/Area of Study</th>\n",
              "      <th>Course Type</th>\n",
              "      <th>Which-year are you studying in?</th>\n",
              "      <th>CGPA/ percentage</th>\n",
              "      <th>Expected Graduation-year</th>\n",
              "      <th>Areas of interest</th>\n",
              "      <th>Current Employment Status</th>\n",
              "      <th>Have you worked core Java</th>\n",
              "      <th>Programming Language Known other than Java (one major)</th>\n",
              "      <th>Have you worked on MySQL or Oracle database</th>\n",
              "      <th>Have you studied OOP Concepts</th>\n",
              "      <th>Certifications/Achievement/ Research papers</th>\n",
              "      <th>Rate your written communication skills [1-10]</th>\n",
              "      <th>Rate your verbal communication skills [1-10]</th>\n",
              "      <th>Link to updated Resume (Google/ One Drive link preferred)</th>\n",
              "      <th>link to Linkedin profile</th>\n",
              "      <th>How Did You Hear About This Internship?</th>\n",
              "      <th>Label</th>\n",
              "    </tr>\n",
              "  </thead>\n",
              "  <tbody>\n",
              "    <tr>\n",
              "      <th>0</th>\n",
              "      <td>False</td>\n",
              "      <td>False</td>\n",
              "      <td>False</td>\n",
              "      <td>False</td>\n",
              "      <td>False</td>\n",
              "      <td>False</td>\n",
              "      <td>False</td>\n",
              "      <td>False</td>\n",
              "      <td>False</td>\n",
              "      <td>False</td>\n",
              "      <td>False</td>\n",
              "      <td>False</td>\n",
              "      <td>False</td>\n",
              "      <td>False</td>\n",
              "      <td>False</td>\n",
              "      <td>False</td>\n",
              "      <td>False</td>\n",
              "      <td>False</td>\n",
              "      <td>False</td>\n",
              "      <td>False</td>\n",
              "      <td>False</td>\n",
              "      <td>False</td>\n",
              "      <td>False</td>\n",
              "      <td>False</td>\n",
              "      <td>False</td>\n",
              "      <td>True</td>\n",
              "      <td>False</td>\n",
              "      <td>False</td>\n",
              "      <td>True</td>\n",
              "      <td>True</td>\n",
              "      <td>False</td>\n",
              "      <td>False</td>\n",
              "    </tr>\n",
              "    <tr>\n",
              "      <th>1</th>\n",
              "      <td>False</td>\n",
              "      <td>False</td>\n",
              "      <td>False</td>\n",
              "      <td>False</td>\n",
              "      <td>False</td>\n",
              "      <td>False</td>\n",
              "      <td>False</td>\n",
              "      <td>False</td>\n",
              "      <td>False</td>\n",
              "      <td>False</td>\n",
              "      <td>False</td>\n",
              "      <td>False</td>\n",
              "      <td>False</td>\n",
              "      <td>False</td>\n",
              "      <td>False</td>\n",
              "      <td>False</td>\n",
              "      <td>False</td>\n",
              "      <td>False</td>\n",
              "      <td>False</td>\n",
              "      <td>False</td>\n",
              "      <td>False</td>\n",
              "      <td>False</td>\n",
              "      <td>False</td>\n",
              "      <td>False</td>\n",
              "      <td>False</td>\n",
              "      <td>True</td>\n",
              "      <td>False</td>\n",
              "      <td>False</td>\n",
              "      <td>True</td>\n",
              "      <td>True</td>\n",
              "      <td>False</td>\n",
              "      <td>False</td>\n",
              "    </tr>\n",
              "    <tr>\n",
              "      <th>2</th>\n",
              "      <td>False</td>\n",
              "      <td>False</td>\n",
              "      <td>False</td>\n",
              "      <td>False</td>\n",
              "      <td>False</td>\n",
              "      <td>False</td>\n",
              "      <td>False</td>\n",
              "      <td>False</td>\n",
              "      <td>False</td>\n",
              "      <td>False</td>\n",
              "      <td>False</td>\n",
              "      <td>False</td>\n",
              "      <td>False</td>\n",
              "      <td>False</td>\n",
              "      <td>False</td>\n",
              "      <td>False</td>\n",
              "      <td>False</td>\n",
              "      <td>False</td>\n",
              "      <td>False</td>\n",
              "      <td>False</td>\n",
              "      <td>False</td>\n",
              "      <td>False</td>\n",
              "      <td>False</td>\n",
              "      <td>False</td>\n",
              "      <td>False</td>\n",
              "      <td>True</td>\n",
              "      <td>False</td>\n",
              "      <td>False</td>\n",
              "      <td>True</td>\n",
              "      <td>True</td>\n",
              "      <td>False</td>\n",
              "      <td>False</td>\n",
              "    </tr>\n",
              "    <tr>\n",
              "      <th>3</th>\n",
              "      <td>False</td>\n",
              "      <td>False</td>\n",
              "      <td>False</td>\n",
              "      <td>False</td>\n",
              "      <td>False</td>\n",
              "      <td>False</td>\n",
              "      <td>False</td>\n",
              "      <td>False</td>\n",
              "      <td>False</td>\n",
              "      <td>False</td>\n",
              "      <td>False</td>\n",
              "      <td>False</td>\n",
              "      <td>False</td>\n",
              "      <td>False</td>\n",
              "      <td>False</td>\n",
              "      <td>False</td>\n",
              "      <td>False</td>\n",
              "      <td>False</td>\n",
              "      <td>False</td>\n",
              "      <td>False</td>\n",
              "      <td>False</td>\n",
              "      <td>False</td>\n",
              "      <td>False</td>\n",
              "      <td>False</td>\n",
              "      <td>False</td>\n",
              "      <td>True</td>\n",
              "      <td>False</td>\n",
              "      <td>False</td>\n",
              "      <td>True</td>\n",
              "      <td>True</td>\n",
              "      <td>False</td>\n",
              "      <td>False</td>\n",
              "    </tr>\n",
              "    <tr>\n",
              "      <th>4</th>\n",
              "      <td>False</td>\n",
              "      <td>False</td>\n",
              "      <td>False</td>\n",
              "      <td>False</td>\n",
              "      <td>False</td>\n",
              "      <td>False</td>\n",
              "      <td>False</td>\n",
              "      <td>False</td>\n",
              "      <td>False</td>\n",
              "      <td>False</td>\n",
              "      <td>False</td>\n",
              "      <td>False</td>\n",
              "      <td>False</td>\n",
              "      <td>False</td>\n",
              "      <td>False</td>\n",
              "      <td>False</td>\n",
              "      <td>False</td>\n",
              "      <td>False</td>\n",
              "      <td>False</td>\n",
              "      <td>False</td>\n",
              "      <td>False</td>\n",
              "      <td>False</td>\n",
              "      <td>False</td>\n",
              "      <td>False</td>\n",
              "      <td>False</td>\n",
              "      <td>True</td>\n",
              "      <td>False</td>\n",
              "      <td>False</td>\n",
              "      <td>True</td>\n",
              "      <td>True</td>\n",
              "      <td>False</td>\n",
              "      <td>False</td>\n",
              "    </tr>\n",
              "    <tr>\n",
              "      <th>...</th>\n",
              "      <td>...</td>\n",
              "      <td>...</td>\n",
              "      <td>...</td>\n",
              "      <td>...</td>\n",
              "      <td>...</td>\n",
              "      <td>...</td>\n",
              "      <td>...</td>\n",
              "      <td>...</td>\n",
              "      <td>...</td>\n",
              "      <td>...</td>\n",
              "      <td>...</td>\n",
              "      <td>...</td>\n",
              "      <td>...</td>\n",
              "      <td>...</td>\n",
              "      <td>...</td>\n",
              "      <td>...</td>\n",
              "      <td>...</td>\n",
              "      <td>...</td>\n",
              "      <td>...</td>\n",
              "      <td>...</td>\n",
              "      <td>...</td>\n",
              "      <td>...</td>\n",
              "      <td>...</td>\n",
              "      <td>...</td>\n",
              "      <td>...</td>\n",
              "      <td>...</td>\n",
              "      <td>...</td>\n",
              "      <td>...</td>\n",
              "      <td>...</td>\n",
              "      <td>...</td>\n",
              "      <td>...</td>\n",
              "      <td>...</td>\n",
              "    </tr>\n",
              "    <tr>\n",
              "      <th>9995</th>\n",
              "      <td>False</td>\n",
              "      <td>False</td>\n",
              "      <td>False</td>\n",
              "      <td>False</td>\n",
              "      <td>False</td>\n",
              "      <td>False</td>\n",
              "      <td>False</td>\n",
              "      <td>False</td>\n",
              "      <td>False</td>\n",
              "      <td>False</td>\n",
              "      <td>False</td>\n",
              "      <td>False</td>\n",
              "      <td>False</td>\n",
              "      <td>False</td>\n",
              "      <td>False</td>\n",
              "      <td>False</td>\n",
              "      <td>False</td>\n",
              "      <td>False</td>\n",
              "      <td>False</td>\n",
              "      <td>False</td>\n",
              "      <td>False</td>\n",
              "      <td>False</td>\n",
              "      <td>False</td>\n",
              "      <td>False</td>\n",
              "      <td>False</td>\n",
              "      <td>True</td>\n",
              "      <td>False</td>\n",
              "      <td>False</td>\n",
              "      <td>True</td>\n",
              "      <td>True</td>\n",
              "      <td>False</td>\n",
              "      <td>False</td>\n",
              "    </tr>\n",
              "    <tr>\n",
              "      <th>9996</th>\n",
              "      <td>False</td>\n",
              "      <td>False</td>\n",
              "      <td>False</td>\n",
              "      <td>False</td>\n",
              "      <td>False</td>\n",
              "      <td>False</td>\n",
              "      <td>False</td>\n",
              "      <td>False</td>\n",
              "      <td>False</td>\n",
              "      <td>False</td>\n",
              "      <td>False</td>\n",
              "      <td>False</td>\n",
              "      <td>False</td>\n",
              "      <td>False</td>\n",
              "      <td>False</td>\n",
              "      <td>False</td>\n",
              "      <td>False</td>\n",
              "      <td>False</td>\n",
              "      <td>False</td>\n",
              "      <td>False</td>\n",
              "      <td>False</td>\n",
              "      <td>False</td>\n",
              "      <td>False</td>\n",
              "      <td>False</td>\n",
              "      <td>False</td>\n",
              "      <td>True</td>\n",
              "      <td>False</td>\n",
              "      <td>False</td>\n",
              "      <td>True</td>\n",
              "      <td>True</td>\n",
              "      <td>False</td>\n",
              "      <td>False</td>\n",
              "    </tr>\n",
              "    <tr>\n",
              "      <th>9997</th>\n",
              "      <td>False</td>\n",
              "      <td>False</td>\n",
              "      <td>False</td>\n",
              "      <td>False</td>\n",
              "      <td>False</td>\n",
              "      <td>False</td>\n",
              "      <td>False</td>\n",
              "      <td>False</td>\n",
              "      <td>False</td>\n",
              "      <td>False</td>\n",
              "      <td>False</td>\n",
              "      <td>False</td>\n",
              "      <td>False</td>\n",
              "      <td>False</td>\n",
              "      <td>False</td>\n",
              "      <td>False</td>\n",
              "      <td>False</td>\n",
              "      <td>False</td>\n",
              "      <td>False</td>\n",
              "      <td>False</td>\n",
              "      <td>False</td>\n",
              "      <td>False</td>\n",
              "      <td>False</td>\n",
              "      <td>False</td>\n",
              "      <td>False</td>\n",
              "      <td>True</td>\n",
              "      <td>False</td>\n",
              "      <td>False</td>\n",
              "      <td>True</td>\n",
              "      <td>True</td>\n",
              "      <td>False</td>\n",
              "      <td>False</td>\n",
              "    </tr>\n",
              "    <tr>\n",
              "      <th>9998</th>\n",
              "      <td>False</td>\n",
              "      <td>False</td>\n",
              "      <td>False</td>\n",
              "      <td>False</td>\n",
              "      <td>False</td>\n",
              "      <td>False</td>\n",
              "      <td>False</td>\n",
              "      <td>False</td>\n",
              "      <td>False</td>\n",
              "      <td>False</td>\n",
              "      <td>False</td>\n",
              "      <td>False</td>\n",
              "      <td>False</td>\n",
              "      <td>False</td>\n",
              "      <td>False</td>\n",
              "      <td>False</td>\n",
              "      <td>False</td>\n",
              "      <td>False</td>\n",
              "      <td>False</td>\n",
              "      <td>False</td>\n",
              "      <td>False</td>\n",
              "      <td>False</td>\n",
              "      <td>False</td>\n",
              "      <td>False</td>\n",
              "      <td>False</td>\n",
              "      <td>True</td>\n",
              "      <td>False</td>\n",
              "      <td>False</td>\n",
              "      <td>True</td>\n",
              "      <td>True</td>\n",
              "      <td>False</td>\n",
              "      <td>False</td>\n",
              "    </tr>\n",
              "    <tr>\n",
              "      <th>9999</th>\n",
              "      <td>False</td>\n",
              "      <td>False</td>\n",
              "      <td>False</td>\n",
              "      <td>False</td>\n",
              "      <td>False</td>\n",
              "      <td>False</td>\n",
              "      <td>False</td>\n",
              "      <td>False</td>\n",
              "      <td>False</td>\n",
              "      <td>False</td>\n",
              "      <td>False</td>\n",
              "      <td>False</td>\n",
              "      <td>False</td>\n",
              "      <td>False</td>\n",
              "      <td>False</td>\n",
              "      <td>False</td>\n",
              "      <td>False</td>\n",
              "      <td>False</td>\n",
              "      <td>False</td>\n",
              "      <td>False</td>\n",
              "      <td>False</td>\n",
              "      <td>False</td>\n",
              "      <td>False</td>\n",
              "      <td>False</td>\n",
              "      <td>False</td>\n",
              "      <td>True</td>\n",
              "      <td>False</td>\n",
              "      <td>False</td>\n",
              "      <td>True</td>\n",
              "      <td>True</td>\n",
              "      <td>False</td>\n",
              "      <td>False</td>\n",
              "    </tr>\n",
              "  </tbody>\n",
              "</table>\n",
              "<p>10000 rows × 32 columns</p>\n",
              "</div>"
            ],
            "text/plain": [
              "      First Name  Last Name  ...  How Did You Hear About This Internship?  Label\n",
              "0          False      False  ...                                    False  False\n",
              "1          False      False  ...                                    False  False\n",
              "2          False      False  ...                                    False  False\n",
              "3          False      False  ...                                    False  False\n",
              "4          False      False  ...                                    False  False\n",
              "...          ...        ...  ...                                      ...    ...\n",
              "9995       False      False  ...                                    False  False\n",
              "9996       False      False  ...                                    False  False\n",
              "9997       False      False  ...                                    False  False\n",
              "9998       False      False  ...                                    False  False\n",
              "9999       False      False  ...                                    False  False\n",
              "\n",
              "[10000 rows x 32 columns]"
            ]
          },
          "metadata": {
            "tags": []
          },
          "execution_count": 328
        }
      ]
    },
    {
      "cell_type": "code",
      "metadata": {
        "id": "apRdJ7ckuKT5",
        "colab_type": "code",
        "colab": {
          "base_uri": "https://localhost:8080/",
          "height": 598
        },
        "outputId": "0bf59f94-214a-40f6-b237-609d6a83a749"
      },
      "source": [
        "file.isnull().sum()"
      ],
      "execution_count": null,
      "outputs": [
        {
          "output_type": "execute_result",
          "data": {
            "text/plain": [
              "First Name                                                       0\n",
              "Last Name                                                        0\n",
              "City                                                             0\n",
              "State                                                            0\n",
              "Zip Code                                                         0\n",
              "DOB [DD/MM/YYYY]                                                 0\n",
              "Age                                                              0\n",
              "Gender                                                           0\n",
              "Email Address                                                    0\n",
              "Contact Number                                                   0\n",
              "Emergency Contact Number                                         0\n",
              "College name                                                     0\n",
              "University Name                                                  0\n",
              "Degree                                                           0\n",
              "Major/Area of Study                                              0\n",
              "Course Type                                                      0\n",
              "Which-year are you studying in?                                  0\n",
              "CGPA/ percentage                                                 0\n",
              "Expected Graduation-year                                         0\n",
              "Areas of interest                                                0\n",
              "Current Employment Status                                        0\n",
              "Have you worked core Java                                        0\n",
              "Programming Language Known other than Java (one major)           0\n",
              "Have you worked on MySQL or Oracle database                      0\n",
              "Have you studied OOP Concepts                                    0\n",
              "Certifications/Achievement/ Research papers                  10000\n",
              "Rate your written communication skills [1-10]                    0\n",
              "Rate your verbal communication skills [1-10]                     0\n",
              "Link to updated Resume (Google/ One Drive link preferred)    10000\n",
              "link to Linkedin profile                                     10000\n",
              "How Did You Hear About This Internship?                          0\n",
              "Label                                                            0\n",
              "dtype: int64"
            ]
          },
          "metadata": {
            "tags": []
          },
          "execution_count": 329
        }
      ]
    },
    {
      "cell_type": "code",
      "metadata": {
        "id": "uZhEcJLBuMy0",
        "colab_type": "code",
        "colab": {
          "base_uri": "https://localhost:8080/",
          "height": 598
        },
        "outputId": "de1314af-6420-44c6-8c85-ee7c1f61d8b4"
      },
      "source": [
        "file.dropna().isnull().sum()"
      ],
      "execution_count": null,
      "outputs": [
        {
          "output_type": "execute_result",
          "data": {
            "text/plain": [
              "First Name                                                   0\n",
              "Last Name                                                    0\n",
              "City                                                         0\n",
              "State                                                        0\n",
              "Zip Code                                                     0\n",
              "DOB [DD/MM/YYYY]                                             0\n",
              "Age                                                          0\n",
              "Gender                                                       0\n",
              "Email Address                                                0\n",
              "Contact Number                                               0\n",
              "Emergency Contact Number                                     0\n",
              "College name                                                 0\n",
              "University Name                                              0\n",
              "Degree                                                       0\n",
              "Major/Area of Study                                          0\n",
              "Course Type                                                  0\n",
              "Which-year are you studying in?                              0\n",
              "CGPA/ percentage                                             0\n",
              "Expected Graduation-year                                     0\n",
              "Areas of interest                                            0\n",
              "Current Employment Status                                    0\n",
              "Have you worked core Java                                    0\n",
              "Programming Language Known other than Java (one major)       0\n",
              "Have you worked on MySQL or Oracle database                  0\n",
              "Have you studied OOP Concepts                                0\n",
              "Certifications/Achievement/ Research papers                  0\n",
              "Rate your written communication skills [1-10]                0\n",
              "Rate your verbal communication skills [1-10]                 0\n",
              "Link to updated Resume (Google/ One Drive link preferred)    0\n",
              "link to Linkedin profile                                     0\n",
              "How Did You Hear About This Internship?                      0\n",
              "Label                                                        0\n",
              "dtype: int64"
            ]
          },
          "metadata": {
            "tags": []
          },
          "execution_count": 330
        }
      ]
    },
    {
      "cell_type": "code",
      "metadata": {
        "id": "-E7Hp9XRuPBY",
        "colab_type": "code",
        "colab": {
          "base_uri": "https://localhost:8080/",
          "height": 598
        },
        "outputId": "c4172923-9720-4a48-ba0c-3a4e4b4ee8f7"
      },
      "source": [
        "\n",
        "inplace = True\n",
        "file.dtypes"
      ],
      "execution_count": null,
      "outputs": [
        {
          "output_type": "execute_result",
          "data": {
            "text/plain": [
              "First Name                                                    object\n",
              "Last Name                                                     object\n",
              "City                                                          object\n",
              "State                                                         object\n",
              "Zip Code                                                       int64\n",
              "DOB [DD/MM/YYYY]                                              object\n",
              "Age                                                            int64\n",
              "Gender                                                        object\n",
              "Email Address                                                 object\n",
              "Contact Number                                                 int64\n",
              "Emergency Contact Number                                       int64\n",
              "College name                                                  object\n",
              "University Name                                               object\n",
              "Degree                                                        object\n",
              "Major/Area of Study                                           object\n",
              "Course Type                                                   object\n",
              "Which-year are you studying in?                               object\n",
              "CGPA/ percentage                                             float64\n",
              "Expected Graduation-year                                       int64\n",
              "Areas of interest                                             object\n",
              "Current Employment Status                                     object\n",
              "Have you worked core Java                                     object\n",
              "Programming Language Known other than Java (one major)        object\n",
              "Have you worked on MySQL or Oracle database                   object\n",
              "Have you studied OOP Concepts                                 object\n",
              "Certifications/Achievement/ Research papers                  float64\n",
              "Rate your written communication skills [1-10]                  int64\n",
              "Rate your verbal communication skills [1-10]                   int64\n",
              "Link to updated Resume (Google/ One Drive link preferred)    float64\n",
              "link to Linkedin profile                                     float64\n",
              "How Did You Hear About This Internship?                       object\n",
              "Label                                                         object\n",
              "dtype: object"
            ]
          },
          "metadata": {
            "tags": []
          },
          "execution_count": 331
        }
      ]
    },
    {
      "cell_type": "code",
      "metadata": {
        "id": "xzSOT_eeuRZF",
        "colab_type": "code",
        "colab": {
          "base_uri": "https://localhost:8080/",
          "height": 1000
        },
        "outputId": "f4fd1154-fddc-47f3-8bdb-d65232a47098"
      },
      "source": [
        "categorical_cols = ['Gender','Expected Graduation-year','Programming Language Known other than Java (one major)','How Did You Hear About This Internship?',\n",
        "                   'Label', 'State', 'City', 'Have you worked on MySQL or Oracle database', 'Have you studied OOP Concepts', 'Areas of interest', 'Degree','Major/Area of Study', 'Which-year are you studying in?','Course Type','Current Employment Status', 'Have you worked core Java']\n",
        "\n",
        "for i in categorical_cols:\n",
        "    print('*****', i, '*****')\n",
        "    print(file[i].value_counts())\n",
        "    print('')"
      ],
      "execution_count": null,
      "outputs": [
        {
          "output_type": "stream",
          "text": [
            "***** Gender *****\n",
            "Female    5018\n",
            "Male      4982\n",
            "Name: Gender, dtype: int64\n",
            "\n",
            "***** Expected Graduation-year *****\n",
            "2022    2550\n",
            "2023    2510\n",
            "2020    2477\n",
            "2021    2463\n",
            "Name: Expected Graduation-year, dtype: int64\n",
            "\n",
            "***** Programming Language Known other than Java (one major) *****\n",
            "JavaScript    1296\n",
            ".Net          1274\n",
            "C             1268\n",
            "C#            1263\n",
            "C++           1249\n",
            "Python        1224\n",
            "HTML/CSS      1223\n",
            "PHP           1203\n",
            "Name: Programming Language Known other than Java (one major), dtype: int64\n",
            "\n",
            "***** How Did You Hear About This Internship? *****\n",
            "Intern                 1173\n",
            "Newspaper              1162\n",
            "Twitter                1160\n",
            "Blog post              1116\n",
            "LinkedIn               1112\n",
            "Friend                 1109\n",
            "Facebook               1084\n",
            "Other                  1077\n",
            "Ex/Current Employee    1007\n",
            "Name: How Did You Hear About This Internship?, dtype: int64\n",
            "\n",
            "***** Label *****\n",
            "ineligible    5937\n",
            "eligible      4063\n",
            "Name: Label, dtype: int64\n",
            "\n",
            "***** State *****\n",
            "Maharashtra    10000\n",
            "Name: State, dtype: int64\n",
            "\n",
            "***** City *****\n",
            "Solapur       1710\n",
            "NaviMumbai    1678\n",
            "Sangli        1670\n",
            "Mumbai        1648\n",
            "Kolhapur      1647\n",
            "Pune          1647\n",
            "Name: City, dtype: int64\n",
            "\n",
            "***** Have you worked on MySQL or Oracle database *****\n",
            "Yes    5007\n",
            "No     4993\n",
            "Name: Have you worked on MySQL or Oracle database, dtype: int64\n",
            "\n",
            "***** Have you studied OOP Concepts *****\n",
            "Yes    5044\n",
            "No     4956\n",
            "Name: Have you studied OOP Concepts, dtype: int64\n",
            "\n",
            "***** Areas of interest *****\n",
            "DevOps                      674\n",
            "Machine Learning            671\n",
            "Python                      652\n",
            "Cyber Security              638\n",
            "Web Development             637\n",
            "QMS/Testing                 633\n",
            "Mobility                    631\n",
            "IoT                         630\n",
            "Artificial Intelligence     627\n",
            "Digital Marketing           624\n",
            "Blockchain                  623\n",
            "Big Data                    612\n",
            "Data Science                601\n",
            "Information Security        598\n",
            "RPA                         589\n",
            "Cloud Computing             560\n",
            "Name: Areas of interest, dtype: int64\n",
            "\n",
            "***** Degree *****\n",
            "B.Tech    6674\n",
            "B.E.      3326\n",
            "Name: Degree, dtype: int64\n",
            "\n",
            "***** Major/Area of Study *****\n",
            "Computer Engineering                 5971\n",
            "Electrical Engineering               2033\n",
            "Electronics and Telecommunication    1996\n",
            "Name: Major/Area of Study, dtype: int64\n",
            "\n",
            "***** Which-year are you studying in? *****\n",
            "Second-year    2550\n",
            "First-year     2510\n",
            "Fourth-year    2477\n",
            "Third-year     2463\n",
            "Name: Which-year are you studying in?, dtype: int64\n",
            "\n",
            "***** Course Type *****\n",
            "Full-time     10000\n",
            "Name: Course Type, dtype: int64\n",
            "\n",
            "***** Current Employment Status *****\n",
            "Student    10000\n",
            "Name: Current Employment Status, dtype: int64\n",
            "\n",
            "***** Have you worked core Java *****\n",
            "No     5031\n",
            "Yes    4969\n",
            "Name: Have you worked core Java, dtype: int64\n",
            "\n"
          ],
          "name": "stdout"
        }
      ]
    },
    {
      "cell_type": "markdown",
      "metadata": {
        "id": "r-aVwCViuXH-",
        "colab_type": "text"
      },
      "source": [
        "### Number of students applied for the different technologies\n"
      ]
    },
    {
      "cell_type": "code",
      "metadata": {
        "id": "9yC2dImPuXj0",
        "colab_type": "code",
        "colab": {
          "base_uri": "https://localhost:8080/",
          "height": 378
        },
        "outputId": "e7db6773-7e83-4ef6-877a-23f17081fc36"
      },
      "source": [
        "file['Areas of interest'].value_counts().plot(kind = 'bar',title='Number of students applied for the different technologies')\n",
        "pp.savefig(dpi=300,bbox_inches=\"tight\")\n"
      ],
      "execution_count": null,
      "outputs": [
        {
          "output_type": "display_data",
          "data": {
            "image/png": "[encoded data removed]",
            "text/plain": [
              "<Figure size 432x288 with 1 Axes>"
            ]
          },
          "metadata": {
            "tags": [],
            "needs_background": "light"
          }
        }
      ]
    },
    {
      "cell_type": "code",
      "metadata": {
        "id": "XVGzIdsXuaJ-",
        "colab_type": "code",
        "colab": {
          "base_uri": "https://localhost:8080/",
          "height": 591
        },
        "outputId": "b671c4c8-1e11-4e7b-e7b9-73d6a2e3672e"
      },
      "source": [
        "plt.figure(figsize=(15,10))\n",
        "file['Areas of interest'].value_counts().plot(kind = 'pie',autopct='%1.1f%%', label='')\n",
        "plt.legend(bbox_to_anchor=(1.2,0.9), loc=\"upper left\")\n",
        "title = plt.title('Number of students applied for the different technologies')\n",
        "title.set_ha(\"left\")\n",
        "pp.savefig(dpi=300,bbox_inches=\"tight\")"
      ],
      "execution_count": null,
      "outputs": [
        {
          "output_type": "display_data",
          "data": {
            "image/png": "[encoded data removed]",
            "text/plain": [
              "<Figure size 1080x720 with 1 Axes>"
            ]
          },
          "metadata": {
            "tags": []
          }
        }
      ]
    },
    {
      "cell_type": "markdown",
      "metadata": {
        "id": "M1_yvqxXvt6k",
        "colab_type": "text"
      },
      "source": [
        " ### The number of students applied for Data Science who knew ‘’Python” and who didn’t.\n"
      ]
    },
    {
      "cell_type": "code",
      "metadata": {
        "id": "OJXE3Ll5vufL",
        "colab_type": "code",
        "colab": {}
      },
      "source": [
        "a = file['First Name'][(file['Programming Language Known other than Java (one major)'] == 'Python') & (file['Areas of interest'] == 'Data Science ')].count()\n",
        "b = file['First Name'][file['Areas of interest'] == 'Data Science '].count() - a\n",
        "df = pd.DataFrame([['did not know python', b], ['knew python', a]], columns = ['python', 'students'])"
      ],
      "execution_count": null,
      "outputs": []
    },
    {
      "cell_type": "code",
      "metadata": {
        "id": "kBXLEHcLvxCI",
        "colab_type": "code",
        "colab": {
          "base_uri": "https://localhost:8080/",
          "height": 295
        },
        "outputId": "3e3aff17-4a14-493b-fc94-fce1fc402c13"
      },
      "source": [
        "fig2=sns.barplot(y=\"python\", x=\"students\", data=df).get_figure()\n",
        "title3 = plt.title('The number of students applied for Data Science who knew Python and who didn’t')\n",
        "plt.show()\n",
        "pp.savefig(fig2,dpi=300,bbox_inches=\"tight\")"
      ],
      "execution_count": null,
      "outputs": [
        {
          "output_type": "display_data",
          "data": {
            "image/png": "[encoded data removed]",
            "text/plain": [
              "<Figure size 432x288 with 1 Axes>"
            ]
          },
          "metadata": {
            "tags": [],
            "needs_background": "light"
          }
        }
      ]
    },
    {
      "cell_type": "markdown",
      "metadata": {
        "id": "EaVBjv-Rue1K",
        "colab_type": "text"
      },
      "source": [
        "### The different ways students learned about this program"
      ]
    },
    {
      "cell_type": "code",
      "metadata": {
        "id": "-pTmwA2GufXo",
        "colab_type": "code",
        "colab": {
          "base_uri": "https://localhost:8080/",
          "height": 427
        },
        "outputId": "bedc38ab-bff7-40ec-80ec-2e4163f2882c"
      },
      "source": [
        "plt.figure(figsize=(15,7))\n",
        "file['How Did You Hear About This Internship?'].value_counts().plot(kind = 'pie',autopct='%1.1f%%', label='')\n",
        "plt.legend(bbox_to_anchor=(1.2,0.9), loc=\"upper left\")\n",
        "title = plt.title('The different ways students learned about this program')\n",
        "title.set_ha(\"left\")\n",
        "pp.savefig(dpi=300,bbox_inches=\"tight\")"
      ],
      "execution_count": null,
      "outputs": [
        {
          "output_type": "display_data",
          "data": {
            "image/png": "[encoded data removed]",
            "text/plain": [
              "<Figure size 1080x504 with 1 Axes>"
            ]
          },
          "metadata": {
            "tags": []
          }
        }
      ]
    },
    {
      "cell_type": "markdown",
      "metadata": {
        "id": "OkZFXPfgvNtY",
        "colab_type": "text"
      },
      "source": [
        "### Students who are in the fourth year and have a CGPA greater than 8.0."
      ]
    },
    {
      "cell_type": "code",
      "metadata": {
        "id": "qK3PblO6vORd",
        "colab_type": "code",
        "colab": {
          "base_uri": "https://localhost:8080/",
          "height": 959
        },
        "outputId": "b28272fe-b12d-47e6-f05f-0f79523ee6bf"
      },
      "source": [
        "file.loc[file['CGPA/ percentage']>8.0]"
      ],
      "execution_count": null,
      "outputs": [
        {
          "output_type": "execute_result",
          "data": {
            "text/html": [
              "<div>\n",
              "<style scoped>\n",
              "    .dataframe tbody tr th:only-of-type {\n",
              "        vertical-align: middle;\n",
              "    }\n",
              "\n",
              "    .dataframe tbody tr th {\n",
              "        vertical-align: top;\n",
              "    }\n",
              "\n",
              "    .dataframe thead th {\n",
              "        text-align: right;\n",
              "    }\n",
              "</style>\n",
              "<table border=\"1\" class=\"dataframe\">\n",
              "  <thead>\n",
              "    <tr style=\"text-align: right;\">\n",
              "      <th></th>\n",
              "      <th>First Name</th>\n",
              "      <th>Last Name</th>\n",
              "      <th>City</th>\n",
              "      <th>State</th>\n",
              "      <th>Zip Code</th>\n",
              "      <th>DOB [DD/MM/YYYY]</th>\n",
              "      <th>Age</th>\n",
              "      <th>Gender</th>\n",
              "      <th>Email Address</th>\n",
              "      <th>Contact Number</th>\n",
              "      <th>Emergency Contact Number</th>\n",
              "      <th>College name</th>\n",
              "      <th>University Name</th>\n",
              "      <th>Degree</th>\n",
              "      <th>Major/Area of Study</th>\n",
              "      <th>Course Type</th>\n",
              "      <th>Which-year are you studying in?</th>\n",
              "      <th>CGPA/ percentage</th>\n",
              "      <th>Expected Graduation-year</th>\n",
              "      <th>Areas of interest</th>\n",
              "      <th>Current Employment Status</th>\n",
              "      <th>Have you worked core Java</th>\n",
              "      <th>Programming Language Known other than Java (one major)</th>\n",
              "      <th>Have you worked on MySQL or Oracle database</th>\n",
              "      <th>Have you studied OOP Concepts</th>\n",
              "      <th>Certifications/Achievement/ Research papers</th>\n",
              "      <th>Rate your written communication skills [1-10]</th>\n",
              "      <th>Rate your verbal communication skills [1-10]</th>\n",
              "      <th>Link to updated Resume (Google/ One Drive link preferred)</th>\n",
              "      <th>link to Linkedin profile</th>\n",
              "      <th>How Did You Hear About This Internship?</th>\n",
              "      <th>Label</th>\n",
              "    </tr>\n",
              "  </thead>\n",
              "  <tbody>\n",
              "    <tr>\n",
              "      <th>1</th>\n",
              "      <td>Velma</td>\n",
              "      <td>Allone</td>\n",
              "      <td>Pune</td>\n",
              "      <td>Maharashtra</td>\n",
              "      <td>411011</td>\n",
              "      <td>23/10/1997</td>\n",
              "      <td>22</td>\n",
              "      <td>Female</td>\n",
              "      <td>vallone1@i2i.jp</td>\n",
              "      <td>2808753102</td>\n",
              "      <td>2891397791</td>\n",
              "      <td>Vishwakarma Institute of Information Technology</td>\n",
              "      <td>Savitribai Phule Pune University</td>\n",
              "      <td>B.Tech</td>\n",
              "      <td>Electronics and Telecommunication</td>\n",
              "      <td>Full-time</td>\n",
              "      <td>Fourth-year</td>\n",
              "      <td>8.73</td>\n",
              "      <td>2020</td>\n",
              "      <td>Cloud Computing</td>\n",
              "      <td>Student</td>\n",
              "      <td>Yes</td>\n",
              "      <td>PHP</td>\n",
              "      <td>No</td>\n",
              "      <td>Yes</td>\n",
              "      <td>NaN</td>\n",
              "      <td>10</td>\n",
              "      <td>7</td>\n",
              "      <td>NaN</td>\n",
              "      <td>NaN</td>\n",
              "      <td>Ex/Current Employee</td>\n",
              "      <td>eligible</td>\n",
              "    </tr>\n",
              "    <tr>\n",
              "      <th>2</th>\n",
              "      <td>Thibaut</td>\n",
              "      <td>Scotland</td>\n",
              "      <td>Mumbai</td>\n",
              "      <td>Maharashtra</td>\n",
              "      <td>400059</td>\n",
              "      <td>6/2/1996</td>\n",
              "      <td>24</td>\n",
              "      <td>Male</td>\n",
              "      <td>tscotland2@opensource.org</td>\n",
              "      <td>2945231918</td>\n",
              "      <td>9388905869</td>\n",
              "      <td>Vidyalankar Institute of Technology</td>\n",
              "      <td>Mumbai University</td>\n",
              "      <td>B.E.</td>\n",
              "      <td>Electrical Engineering</td>\n",
              "      <td>Full-time</td>\n",
              "      <td>Fourth-year</td>\n",
              "      <td>8.61</td>\n",
              "      <td>2020</td>\n",
              "      <td>IoT</td>\n",
              "      <td>Student</td>\n",
              "      <td>Yes</td>\n",
              "      <td>C</td>\n",
              "      <td>No</td>\n",
              "      <td>No</td>\n",
              "      <td>NaN</td>\n",
              "      <td>8</td>\n",
              "      <td>6</td>\n",
              "      <td>NaN</td>\n",
              "      <td>NaN</td>\n",
              "      <td>Twitter</td>\n",
              "      <td>ineligible</td>\n",
              "    </tr>\n",
              "    <tr>\n",
              "      <th>5</th>\n",
              "      <td>Farlay</td>\n",
              "      <td>Anstis</td>\n",
              "      <td>Sangli</td>\n",
              "      <td>Maharashtra</td>\n",
              "      <td>416415</td>\n",
              "      <td>12/2/2000</td>\n",
              "      <td>20</td>\n",
              "      <td>Male</td>\n",
              "      <td>fanstis5@zdnet.com</td>\n",
              "      <td>8429984749</td>\n",
              "      <td>8157591558</td>\n",
              "      <td>Rajarambapu Institute of Technology</td>\n",
              "      <td>Shivaji University</td>\n",
              "      <td>B.Tech</td>\n",
              "      <td>Electrical Engineering</td>\n",
              "      <td>Full-time</td>\n",
              "      <td>Fourth-year</td>\n",
              "      <td>9.35</td>\n",
              "      <td>2020</td>\n",
              "      <td>Python</td>\n",
              "      <td>Student</td>\n",
              "      <td>Yes</td>\n",
              "      <td>PHP</td>\n",
              "      <td>Yes</td>\n",
              "      <td>No</td>\n",
              "      <td>NaN</td>\n",
              "      <td>6</td>\n",
              "      <td>7</td>\n",
              "      <td>NaN</td>\n",
              "      <td>NaN</td>\n",
              "      <td>Twitter</td>\n",
              "      <td>ineligible</td>\n",
              "    </tr>\n",
              "    <tr>\n",
              "      <th>6</th>\n",
              "      <td>Vanna</td>\n",
              "      <td>Keighley</td>\n",
              "      <td>Solapur</td>\n",
              "      <td>Maharashtra</td>\n",
              "      <td>413224</td>\n",
              "      <td>18/03/2000</td>\n",
              "      <td>20</td>\n",
              "      <td>Female</td>\n",
              "      <td>vkeighley6@un.org</td>\n",
              "      <td>3929498765</td>\n",
              "      <td>9665166124</td>\n",
              "      <td>Skn Sinhgad College of Engineering</td>\n",
              "      <td>Punyashlok Ahilyadevi Holkar Solapur University</td>\n",
              "      <td>B.Tech</td>\n",
              "      <td>Electronics and Telecommunication</td>\n",
              "      <td>Full-time</td>\n",
              "      <td>Third-year</td>\n",
              "      <td>8.31</td>\n",
              "      <td>2021</td>\n",
              "      <td>QMS/Testing</td>\n",
              "      <td>Student</td>\n",
              "      <td>Yes</td>\n",
              "      <td>PHP</td>\n",
              "      <td>Yes</td>\n",
              "      <td>No</td>\n",
              "      <td>NaN</td>\n",
              "      <td>10</td>\n",
              "      <td>7</td>\n",
              "      <td>NaN</td>\n",
              "      <td>NaN</td>\n",
              "      <td>Facebook</td>\n",
              "      <td>eligible</td>\n",
              "    </tr>\n",
              "    <tr>\n",
              "      <th>7</th>\n",
              "      <td>Vikki</td>\n",
              "      <td>Ottawell</td>\n",
              "      <td>Kolhapur</td>\n",
              "      <td>Maharashtra</td>\n",
              "      <td>416004</td>\n",
              "      <td>21/07/1998</td>\n",
              "      <td>21</td>\n",
              "      <td>Female</td>\n",
              "      <td>vottawell7@4shared.com</td>\n",
              "      <td>4906898554</td>\n",
              "      <td>1358046468</td>\n",
              "      <td>Bharati Vidyapeeth College of Engineering</td>\n",
              "      <td>Shivaji University</td>\n",
              "      <td>B.Tech</td>\n",
              "      <td>Electronics and Telecommunication</td>\n",
              "      <td>Full-time</td>\n",
              "      <td>Third-year</td>\n",
              "      <td>9.21</td>\n",
              "      <td>2021</td>\n",
              "      <td>Data Science</td>\n",
              "      <td>Student</td>\n",
              "      <td>No</td>\n",
              "      <td>C++</td>\n",
              "      <td>No</td>\n",
              "      <td>Yes</td>\n",
              "      <td>NaN</td>\n",
              "      <td>9</td>\n",
              "      <td>9</td>\n",
              "      <td>NaN</td>\n",
              "      <td>NaN</td>\n",
              "      <td>Newspaper</td>\n",
              "      <td>eligible</td>\n",
              "    </tr>\n",
              "    <tr>\n",
              "      <th>...</th>\n",
              "      <td>...</td>\n",
              "      <td>...</td>\n",
              "      <td>...</td>\n",
              "      <td>...</td>\n",
              "      <td>...</td>\n",
              "      <td>...</td>\n",
              "      <td>...</td>\n",
              "      <td>...</td>\n",
              "      <td>...</td>\n",
              "      <td>...</td>\n",
              "      <td>...</td>\n",
              "      <td>...</td>\n",
              "      <td>...</td>\n",
              "      <td>...</td>\n",
              "      <td>...</td>\n",
              "      <td>...</td>\n",
              "      <td>...</td>\n",
              "      <td>...</td>\n",
              "      <td>...</td>\n",
              "      <td>...</td>\n",
              "      <td>...</td>\n",
              "      <td>...</td>\n",
              "      <td>...</td>\n",
              "      <td>...</td>\n",
              "      <td>...</td>\n",
              "      <td>...</td>\n",
              "      <td>...</td>\n",
              "      <td>...</td>\n",
              "      <td>...</td>\n",
              "      <td>...</td>\n",
              "      <td>...</td>\n",
              "      <td>...</td>\n",
              "    </tr>\n",
              "    <tr>\n",
              "      <th>9993</th>\n",
              "      <td>Leisha</td>\n",
              "      <td>Rickesies</td>\n",
              "      <td>Mumbai</td>\n",
              "      <td>Maharashtra</td>\n",
              "      <td>400059</td>\n",
              "      <td>2/4/1996</td>\n",
              "      <td>24</td>\n",
              "      <td>Female</td>\n",
              "      <td>lrickesiesrl@mac.com</td>\n",
              "      <td>6692473889</td>\n",
              "      <td>3463498767</td>\n",
              "      <td>St. Francis Institute of Technology</td>\n",
              "      <td>Mumbai University</td>\n",
              "      <td>B.E.</td>\n",
              "      <td>Computer Engineering</td>\n",
              "      <td>Full-time</td>\n",
              "      <td>Third-year</td>\n",
              "      <td>9.04</td>\n",
              "      <td>2021</td>\n",
              "      <td>Blockchain</td>\n",
              "      <td>Student</td>\n",
              "      <td>Yes</td>\n",
              "      <td>C#</td>\n",
              "      <td>No</td>\n",
              "      <td>No</td>\n",
              "      <td>NaN</td>\n",
              "      <td>8</td>\n",
              "      <td>6</td>\n",
              "      <td>NaN</td>\n",
              "      <td>NaN</td>\n",
              "      <td>Twitter</td>\n",
              "      <td>ineligible</td>\n",
              "    </tr>\n",
              "    <tr>\n",
              "      <th>9994</th>\n",
              "      <td>Trip</td>\n",
              "      <td>Paxton</td>\n",
              "      <td>NaviMumbai</td>\n",
              "      <td>Maharashtra</td>\n",
              "      <td>400701</td>\n",
              "      <td>19/02/1999</td>\n",
              "      <td>21</td>\n",
              "      <td>Male</td>\n",
              "      <td>tpaxtonrm@cbc.ca</td>\n",
              "      <td>7965373117</td>\n",
              "      <td>7019983369</td>\n",
              "      <td>Ramrao Adik Institute of Technology</td>\n",
              "      <td>Mumbai University</td>\n",
              "      <td>B.E.</td>\n",
              "      <td>Computer Engineering</td>\n",
              "      <td>Full-time</td>\n",
              "      <td>Second-year</td>\n",
              "      <td>9.59</td>\n",
              "      <td>2022</td>\n",
              "      <td>Blockchain</td>\n",
              "      <td>Student</td>\n",
              "      <td>Yes</td>\n",
              "      <td>HTML/CSS</td>\n",
              "      <td>No</td>\n",
              "      <td>No</td>\n",
              "      <td>NaN</td>\n",
              "      <td>8</td>\n",
              "      <td>6</td>\n",
              "      <td>NaN</td>\n",
              "      <td>NaN</td>\n",
              "      <td>Blog post</td>\n",
              "      <td>ineligible</td>\n",
              "    </tr>\n",
              "    <tr>\n",
              "      <th>9996</th>\n",
              "      <td>Domini</td>\n",
              "      <td>Napton</td>\n",
              "      <td>Mumbai</td>\n",
              "      <td>Maharashtra</td>\n",
              "      <td>400059</td>\n",
              "      <td>20/07/1998</td>\n",
              "      <td>21</td>\n",
              "      <td>Female</td>\n",
              "      <td>dnaptonro@deviantart.com</td>\n",
              "      <td>9365868127</td>\n",
              "      <td>6851083082</td>\n",
              "      <td>St. Francis Institute of Technology</td>\n",
              "      <td>Mumbai University</td>\n",
              "      <td>B.E.</td>\n",
              "      <td>Computer Engineering</td>\n",
              "      <td>Full-time</td>\n",
              "      <td>Third-year</td>\n",
              "      <td>8.74</td>\n",
              "      <td>2021</td>\n",
              "      <td>Cyber Security</td>\n",
              "      <td>Student</td>\n",
              "      <td>No</td>\n",
              "      <td>PHP</td>\n",
              "      <td>Yes</td>\n",
              "      <td>Yes</td>\n",
              "      <td>NaN</td>\n",
              "      <td>7</td>\n",
              "      <td>7</td>\n",
              "      <td>NaN</td>\n",
              "      <td>NaN</td>\n",
              "      <td>Friend</td>\n",
              "      <td>eligible</td>\n",
              "    </tr>\n",
              "    <tr>\n",
              "      <th>9997</th>\n",
              "      <td>Adoree</td>\n",
              "      <td>Westwick</td>\n",
              "      <td>Kolhapur</td>\n",
              "      <td>Maharashtra</td>\n",
              "      <td>416007</td>\n",
              "      <td>21/03/1998</td>\n",
              "      <td>22</td>\n",
              "      <td>Female</td>\n",
              "      <td>awestwickrp@example.com</td>\n",
              "      <td>7088063119</td>\n",
              "      <td>9513615061</td>\n",
              "      <td>DY Patil College of Engineering And Technology</td>\n",
              "      <td>Shivaji University</td>\n",
              "      <td>B.Tech</td>\n",
              "      <td>Electronics and Telecommunication</td>\n",
              "      <td>Full-time</td>\n",
              "      <td>Second-year</td>\n",
              "      <td>8.52</td>\n",
              "      <td>2022</td>\n",
              "      <td>IoT</td>\n",
              "      <td>Student</td>\n",
              "      <td>Yes</td>\n",
              "      <td>C++</td>\n",
              "      <td>Yes</td>\n",
              "      <td>No</td>\n",
              "      <td>NaN</td>\n",
              "      <td>7</td>\n",
              "      <td>7</td>\n",
              "      <td>NaN</td>\n",
              "      <td>NaN</td>\n",
              "      <td>Newspaper</td>\n",
              "      <td>eligible</td>\n",
              "    </tr>\n",
              "    <tr>\n",
              "      <th>9998</th>\n",
              "      <td>Germain</td>\n",
              "      <td>Imlen</td>\n",
              "      <td>Sangli</td>\n",
              "      <td>Maharashtra</td>\n",
              "      <td>416415</td>\n",
              "      <td>29/01/2000</td>\n",
              "      <td>20</td>\n",
              "      <td>Female</td>\n",
              "      <td>gimlenrq@theatlantic.com</td>\n",
              "      <td>1662837014</td>\n",
              "      <td>7149715172</td>\n",
              "      <td>Rajarambapu Institute of Technology</td>\n",
              "      <td>Shivaji University</td>\n",
              "      <td>B.Tech</td>\n",
              "      <td>Computer Engineering</td>\n",
              "      <td>Full-time</td>\n",
              "      <td>Fourth-year</td>\n",
              "      <td>9.22</td>\n",
              "      <td>2020</td>\n",
              "      <td>Machine Learning</td>\n",
              "      <td>Student</td>\n",
              "      <td>No</td>\n",
              "      <td>JavaScript</td>\n",
              "      <td>Yes</td>\n",
              "      <td>Yes</td>\n",
              "      <td>NaN</td>\n",
              "      <td>7</td>\n",
              "      <td>6</td>\n",
              "      <td>NaN</td>\n",
              "      <td>NaN</td>\n",
              "      <td>Blog post</td>\n",
              "      <td>ineligible</td>\n",
              "    </tr>\n",
              "  </tbody>\n",
              "</table>\n",
              "<p>6674 rows × 32 columns</p>\n",
              "</div>"
            ],
            "text/plain": [
              "     First Name  Last Name  ... How Did You Hear About This Internship?       Label\n",
              "1         Velma     Allone  ...                     Ex/Current Employee    eligible\n",
              "2       Thibaut   Scotland  ...                                 Twitter  ineligible\n",
              "5        Farlay     Anstis  ...                                 Twitter  ineligible\n",
              "6         Vanna   Keighley  ...                                Facebook    eligible\n",
              "7         Vikki   Ottawell  ...                               Newspaper    eligible\n",
              "...         ...        ...  ...                                     ...         ...\n",
              "9993     Leisha  Rickesies  ...                                 Twitter  ineligible\n",
              "9994       Trip     Paxton  ...                               Blog post  ineligible\n",
              "9996     Domini     Napton  ...                                  Friend    eligible\n",
              "9997     Adoree   Westwick  ...                               Newspaper    eligible\n",
              "9998    Germain      Imlen  ...                               Blog post  ineligible\n",
              "\n",
              "[6674 rows x 32 columns]"
            ]
          },
          "metadata": {
            "tags": []
          },
          "execution_count": 338
        }
      ]
    },
    {
      "cell_type": "code",
      "metadata": {
        "id": "debThOoHvQMP",
        "colab_type": "code",
        "colab": {
          "base_uri": "https://localhost:8080/",
          "height": 34
        },
        "outputId": "6051c760-4fad-4bc5-f0de-e74bc9d48900"
      },
      "source": [
        "len(file[(file['Which-year are you studying in?']==\"Fourth-year\")&(file['CGPA/ percentage']>8.0)])"
      ],
      "execution_count": null,
      "outputs": [
        {
          "output_type": "execute_result",
          "data": {
            "text/plain": [
              "1697"
            ]
          },
          "metadata": {
            "tags": []
          },
          "execution_count": 339
        }
      ]
    },
    {
      "cell_type": "code",
      "metadata": {
        "id": "76O3H_YzvSuM",
        "colab_type": "code",
        "colab": {}
      },
      "source": [
        "df = pd.DataFrame(columns = ['cgpa', 'number of students'])\n",
        "df1 = file[file['CGPA/ percentage'] > 8.0]\n",
        "for i in df1['CGPA/ percentage'].unique():\n",
        "    df = df.append(pd.DataFrame([[i, df1['First Name'][df1['CGPA/ percentage'] == i].count()]] ,columns = ['cgpa', 'number of students']))"
      ],
      "execution_count": null,
      "outputs": []
    },
    {
      "cell_type": "code",
      "metadata": {
        "id": "dlrlqskCvXHA",
        "colab_type": "code",
        "colab": {
          "base_uri": "https://localhost:8080/",
          "height": 295
        },
        "outputId": "bc0c10d0-4869-4bcd-b8df-29d0e4fcb917"
      },
      "source": [
        "title2 = plt.title('Students who are in the fourth year and have a CGPA greater than 8.0.')\n",
        "fig=sns.scatterplot(y=\"number of students\", x=\"cgpa\", data=df).get_figure()\n",
        "plt.show()\n",
        "pp.savefig(fig,dpi=300,bbox_inches=\"tight\")"
      ],
      "execution_count": null,
      "outputs": [
        {
          "output_type": "display_data",
          "data": {
            "image/png": "[encoded data removed]",
            "text/plain": [
              "<Figure size 432x288 with 1 Axes>"
            ]
          },
          "metadata": {
            "tags": [],
            "needs_background": "light"
          }
        }
      ]
    },
    {
      "cell_type": "markdown",
      "metadata": {
        "id": "BopQ6ppHvdaH",
        "colab_type": "text"
      },
      "source": [
        "### Students who applied for Digital Marketing with verbal and written communication score greater than 8. \n"
      ]
    },
    {
      "cell_type": "code",
      "metadata": {
        "id": "gjDHQejAvd6u",
        "colab_type": "code",
        "colab": {}
      },
      "source": [
        "df = pd.DataFrame(columns = ['verbal score', 'written score', 'number of students'])\n",
        "df1 = file[(file['Rate your written communication skills [1-10]'] > 8) & (file['Rate your verbal communication skills [1-10]'] > 8)]\n",
        "for i in [9,10]:\n",
        "    for j in [9,10]:\n",
        "        df = df.append(pd.DataFrame([[i, j, df1['First Name'][(df1['Rate your verbal communication skills [1-10]'] == i) & (df1['Rate your written communication skills [1-10]'] == i)].count()]] ,columns = ['verbal score', 'written score', 'number of students']))"
      ],
      "execution_count": null,
      "outputs": []
    },
    {
      "cell_type": "code",
      "metadata": {
        "id": "__OiEv3gvf8y",
        "colab_type": "code",
        "colab": {
          "base_uri": "https://localhost:8080/",
          "height": 457
        },
        "outputId": "79a517c1-9b62-424f-915c-351a73d9e0ed"
      },
      "source": [
        "fig3=sns.catplot(x=\"verbal score\", y=\"number of students\", hue=\"written score\", data=df, height=6, kind=\"bar\", palette=\"muted\")\n",
        "title4 = plt.title('Students who applied for Digital Marketing with verbal and written communication score greater than 8.')\n",
        "plt.show()\n",
        "pp.savefig(fig3.fig,dpi=300,bbox_inches=\"tight\")"
      ],
      "execution_count": null,
      "outputs": [
        {
          "output_type": "display_data",
          "data": {
            "image/png": "[encoded data removed]",
            "text/plain": [
              "<Figure size 505.25x432 with 1 Axes>"
            ]
          },
          "metadata": {
            "tags": [],
            "needs_background": "light"
          }
        }
      ]
    },
    {
      "cell_type": "markdown",
      "metadata": {
        "id": "5ccd6-Z3ujiZ",
        "colab_type": "text"
      },
      "source": [
        "### Year-wise and area of study wise classification of students."
      ]
    },
    {
      "cell_type": "code",
      "metadata": {
        "id": "EbGOkLSDukGQ",
        "colab_type": "code",
        "colab": {}
      },
      "source": [
        "df = pd.DataFrame(columns = ['year', 'students'])\n",
        "for i in ['First-year', 'Second-year', 'Third-year', 'Fourth-year']:\n",
        "    df = df.append(pd.DataFrame([[i, file['First Name'][file['Which-year are you studying in?'] == i].count()]], columns = ['year', 'students']))"
      ],
      "execution_count": null,
      "outputs": []
    },
    {
      "cell_type": "code",
      "metadata": {
        "id": "zW1pgdphuovh",
        "colab_type": "code",
        "colab": {
          "base_uri": "https://localhost:8080/",
          "height": 295
        },
        "outputId": "18050856-1bf5-467d-aee6-84eae8cdbb71"
      },
      "source": [
        "title2 = plt.title('Year Wise Classification of students')\n",
        "fig=sns.barplot(y=\"year\", x=\"students\", data=df).get_figure()\n",
        "plt.show()\n",
        "pp.savefig(fig,dpi=300,bbox_inches=\"tight\")"
      ],
      "execution_count": null,
      "outputs": [
        {
          "output_type": "display_data",
          "data": {
            "image/png": "[encoded data removed]",
            "text/plain": [
              "<Figure size 432x288 with 1 Axes>"
            ]
          },
          "metadata": {
            "tags": [],
            "needs_background": "light"
          }
        }
      ]
    },
    {
      "cell_type": "markdown",
      "metadata": {
        "id": "kz0hkz23uszh",
        "colab_type": "text"
      },
      "source": [
        "### City wise Classification of students"
      ]
    },
    {
      "cell_type": "code",
      "metadata": {
        "id": "McRl4UOMutR4",
        "colab_type": "code",
        "colab": {}
      },
      "source": [
        "df = pd.DataFrame(columns = ['city', 'students'])\n",
        "for i in file['City'].unique():\n",
        "    df = df.append(pd.DataFrame([[i, file['First Name'][file['City'] == i].count()]], columns = ['city', 'students']))"
      ],
      "execution_count": null,
      "outputs": []
    },
    {
      "cell_type": "code",
      "metadata": {
        "id": "yx7pXiwAuxgL",
        "colab_type": "code",
        "colab": {
          "base_uri": "https://localhost:8080/",
          "height": 295
        },
        "outputId": "ba7585cd-71fc-486d-cf75-eebad72847bc"
      },
      "source": [
        "title2 = plt.title('City Wise Classification of students')\n",
        "fig=sns.barplot(y=\"city\", x=\"students\", data=df).get_figure()\n",
        "plt.show()\n",
        "pp.savefig(fig,dpi=300,bbox_inches=\"tight\")"
      ],
      "execution_count": null,
      "outputs": [
        {
          "output_type": "display_data",
          "data": {
            "image/png": "[encoded data removed]",
            "text/plain": [
              "<Figure size 432x288 with 1 Axes>"
            ]
          },
          "metadata": {
            "tags": [],
            "needs_background": "light"
          }
        }
      ]
    },
    {
      "cell_type": "markdown",
      "metadata": {
        "id": "tMEClHB1dKqK",
        "colab_type": "text"
      },
      "source": [
        "###College wise Classification of Students"
      ]
    },
    {
      "cell_type": "code",
      "metadata": {
        "id": "-hhI-SWrZUNF",
        "colab_type": "code",
        "colab": {}
      },
      "source": [
        "df = pd.DataFrame(columns = ['college', 'students'])\n",
        "for i in file['College name'].unique():\n",
        "    df = df.append(pd.DataFrame([[i, file['First Name'][file['College name'] == i].count()]], columns = ['college', 'students']))"
      ],
      "execution_count": null,
      "outputs": []
    },
    {
      "cell_type": "code",
      "metadata": {
        "id": "WlI3ylrvZWzK",
        "colab_type": "code",
        "colab": {
          "base_uri": "https://localhost:8080/",
          "height": 295
        },
        "outputId": "a888ddca-d3f3-4f7f-b578-2100b209b6fa"
      },
      "source": [
        "title2 = plt.title('College Wise Classification of students')\n",
        "fig=sns.barplot(y=\"college\", x=\"students\", data=df).get_figure()\n",
        "plt.show()\n",
        "pp.savefig(fig,dpi=300,bbox_inches=\"tight\")"
      ],
      "execution_count": null,
      "outputs": [
        {
          "output_type": "display_data",
          "data": {
            "image/png": "[encoded data removed]",
            "text/plain": [
              "<Figure size 432x288 with 1 Axes>"
            ]
          },
          "metadata": {
            "tags": [],
            "needs_background": "light"
          }
        }
      ]
    },
    {
      "cell_type": "markdown",
      "metadata": {
        "id": "65GV-Mz4dqkJ",
        "colab_type": "text"
      },
      "source": [
        "###Major wise Classification of Students"
      ]
    },
    {
      "cell_type": "code",
      "metadata": {
        "id": "-GY5CMlEd1Vk",
        "colab_type": "code",
        "colab": {}
      },
      "source": [
        "df = pd.DataFrame(columns = ['Major', 'students'])\n",
        "for i in file['Major/Area of Study'].unique():\n",
        "    df = df.append(pd.DataFrame([[i, file['First Name'][file['Major/Area of Study'] == i].count()]], columns = ['Major', 'students']))"
      ],
      "execution_count": null,
      "outputs": []
    },
    {
      "cell_type": "code",
      "metadata": {
        "id": "dDedZavVd3WZ",
        "colab_type": "code",
        "colab": {
          "base_uri": "https://localhost:8080/",
          "height": 295
        },
        "outputId": "dd985c25-3214-42e8-ee11-bfbfea8a6699"
      },
      "source": [
        "title2 = plt.title('Area of Study Wise Classification of students')\n",
        "fig=sns.barplot(y=\"Major\", x=\"students\", data=df).get_figure()\n",
        "plt.show()\n",
        "pp.savefig(fig,dpi=300,bbox_inches=\"tight\")"
      ],
      "execution_count": null,
      "outputs": [
        {
          "output_type": "display_data",
          "data": {
            "image/png": "[encoded data removed]",
            "text/plain": [
              "<Figure size 432x288 with 1 Axes>"
            ]
          },
          "metadata": {
            "tags": [],
            "needs_background": "light"
          }
        }
      ]
    },
    {
      "cell_type": "markdown",
      "metadata": {
        "id": "wIbrkxXhu1wm",
        "colab_type": "text"
      },
      "source": [
        "### Plot the relationship between the CGPA and the target variable."
      ]
    },
    {
      "cell_type": "code",
      "metadata": {
        "id": "U4jYthDWu2K3",
        "colab_type": "code",
        "colab": {
          "base_uri": "https://localhost:8080/",
          "height": 295
        },
        "outputId": "b4213057-65bd-4efc-c70c-1f57762f43de"
      },
      "source": [
        "fig2=sns.barplot(y=\"CGPA/ percentage\", x=\"Label\", data=file).get_figure()\n",
        "title3 = plt.title('Plot the relationship between the CGPA and the target variable.')\n",
        "plt.show()\n",
        "pp.savefig(fig2,dpi=300,bbox_inches=\"tight\")"
      ],
      "execution_count": null,
      "outputs": [
        {
          "output_type": "display_data",
          "data": {
            "image/png": "[encoded data removed]",
            "text/plain": [
              "<Figure size 432x288 with 1 Axes>"
            ]
          },
          "metadata": {
            "tags": [],
            "needs_background": "light"
          }
        }
      ]
    },
    {
      "cell_type": "markdown",
      "metadata": {
        "id": "7v9xB2j4u6EU",
        "colab_type": "text"
      },
      "source": [
        "### Plot the relationship between the Area of Interest and the target variable."
      ]
    },
    {
      "cell_type": "code",
      "metadata": {
        "id": "4uRuhSrLu6hU",
        "colab_type": "code",
        "colab": {}
      },
      "source": [
        "df = pd.DataFrame(columns = ['Major', 'label', 'students'])\n",
        "for i in file['Major/Area of Study'].unique():\n",
        "    for j in file['Label'].unique():\n",
        "        df = df.append(pd.DataFrame([[i, j, file['First Name'][(file['Major/Area of Study'] == i) & (file['Label'] == j)].count()]], columns = ['Major', 'label', 'students']))"
      ],
      "execution_count": null,
      "outputs": []
    },
    {
      "cell_type": "code",
      "metadata": {
        "id": "dhcuJ5Uuu_XQ",
        "colab_type": "code",
        "colab": {
          "base_uri": "https://localhost:8080/",
          "height": 579
        },
        "outputId": "c298a950-4f0b-40fb-bfc5-6469d8c4a39d"
      },
      "source": [
        "fig3=sns.catplot(x=\"Major\", y=\"students\", hue=\"label\", data=df, height=6, kind=\"bar\", palette=\"muted\")\n",
        "fig3.set_xticklabels(rotation = '45', ha='right')\n",
        "title4 = plt.title('Relationship between the Area of Interest and the target variable.')\n",
        "plt.show()\n",
        "pp.savefig(fig3.fig,dpi=300,bbox_inches=\"tight\")"
      ],
      "execution_count": null,
      "outputs": [
        {
          "output_type": "display_data",
          "data": {
            "image/png": "[encoded data removed]",
            "text/plain": [
              "<Figure size 513.625x432 with 1 Axes>"
            ]
          },
          "metadata": {
            "tags": [],
            "needs_background": "light"
          }
        }
      ]
    },
    {
      "cell_type": "markdown",
      "metadata": {
        "id": "ZremUGPcvEPA",
        "colab_type": "text"
      },
      "source": [
        "### Plot the relationship between the year of study, major, and the target variable."
      ]
    },
    {
      "cell_type": "code",
      "metadata": {
        "id": "t6lpHk3GvEpv",
        "colab_type": "code",
        "colab": {}
      },
      "source": [
        "df = pd.DataFrame(columns = ['Areas of interest', 'year', 'label', 'students'])\n",
        "for i in file['Areas of interest'].unique():\n",
        "    for j in ['First-year', 'Second-year', 'Third-year', 'Fourth-year']:\n",
        "        for k in file['Label'].unique():\n",
        "            df = df.append(pd.DataFrame([[i, j, k, file['First Name'][(file['Areas of interest'] == i) & (file['Which-year are you studying in?'] == j) & (file['Label'] == k)].count()]], columns = ['Areas of interest', 'year', 'label', 'students']))"
      ],
      "execution_count": null,
      "outputs": []
    },
    {
      "cell_type": "code",
      "metadata": {
        "id": "Md2eOqixvJHN",
        "colab_type": "code",
        "colab": {
          "base_uri": "https://localhost:8080/",
          "height": 320
        },
        "outputId": "0a1c8c8c-b9d4-48a5-bb9a-32ed04b06a0d"
      },
      "source": [
        "fig3=sns.catplot(x=\"Areas of interest\", y=\"students\", hue=\"label\", col=\"year\", data=df, height=6, kind=\"bar\", palette=\"muted\")\n",
        "fig3.set_xticklabels(rotation = '45', ha='right')\n",
        "title4 = plt.title('Relationship between the Area of Interest and the target variable.')\n",
        "plt.show()\n",
        "pp.savefig(fig3.fig,dpi=300,bbox_inches=\"tight\")"
      ],
      "execution_count": null,
      "outputs": [
        {
          "output_type": "display_data",
          "data": {
            "image/png": "[encoded data removed]",
            "text/plain": [
              "<Figure size 1809.62x432 with 4 Axes>"
            ]
          },
          "metadata": {
            "tags": [],
            "needs_background": "light"
          }
        }
      ]
    },
    {
      "cell_type": "code",
      "metadata": {
        "id": "oCoWXC5KBURr",
        "colab_type": "code",
        "colab": {}
      },
      "source": [
        "pp.close()"
      ],
      "execution_count": null,
      "outputs": []
    }
  ]
}